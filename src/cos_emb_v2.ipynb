{
 "cells": [
  {
   "cell_type": "code",
   "execution_count": 2,
   "id": "97cdfda1",
   "metadata": {},
   "outputs": [
    {
     "name": "stderr",
     "output_type": "stream",
     "text": [
      "c:\\Users\\Napat\\AppData\\Local\\Programs\\Python\\Python310\\lib\\site-packages\\tqdm\\auto.py:21: TqdmWarning: IProgress not found. Please update jupyter and ipywidgets. See https://ipywidgets.readthedocs.io/en/stable/user_install.html\n",
      "  from .autonotebook import tqdm as notebook_tqdm\n"
     ]
    }
   ],
   "source": [
    "import torch\n",
    "from transformers import BertTokenizer, BertModel\n",
    "from sklearn.metrics.pairwise import cosine_similarity\n",
    "from sklearn.decomposition import PCA\n",
    "import matplotlib.pyplot as plt\n",
    "import pandas as pd\n",
    "import numpy as np\n"
   ]
  },
  {
   "cell_type": "code",
   "execution_count": 5,
   "id": "14e60f10",
   "metadata": {},
   "outputs": [],
   "source": [
    "\n",
    "groundtruth_texts = {\n",
    "    \"Text1\": (\n",
    "        \"Today is our Dragon Boat Festival. In our Chinese culture, we celebrate it with the wish for safety and prosperity in \"\n",
    "        \"all aspects of our lives. I hope you also enjoy it, as are my deepest wishes for you.\"\n",
    "        \"Thank you for your message; I will convey our words to the doctor regarding his next contract check-up for all of us.\"\n",
    "        \"I received this message as an approved confirmation. In fact, I had already received a similar message from the professor \"\n",
    "        \"a couple of days ago. I deeply appreciate the professor's full support for our Springer proceedings publication.\"\n",
    "    ),\n",
    "    \"Text2\": (\n",
    "        \"During our final discussion, I told him about the new submission—the one we had been waiting for since last autumn. \"\n",
    "        \"However, the updates were confusing as they did not include the full feedback from the reviewer, or perhaps the editor?\"\n",
    "        \"Anyway, I believe the team, although a bit delayed and with less communication in recent days, truly tried their best for \"\n",
    "        \"the paper and our cooperation. We should all be grateful for the acceptance and efforts, leading up to the Springer link \"\n",
    "        \"finally appearing last week, I think. Also, please kindly remind me if the doctor still plans to edit the acknowledgments \"\n",
    "        \"section before sending it again. I did not see that part finalized yet, or perhaps I missed it; I apologize if so. \"\n",
    "        \"Overall, let us ensure everyone is safe and celebrate the outcome with strong coffee and future targets.\"\n",
    "    )\n",
    "}\n",
    "\n",
    "reconstructed_texts = {\n",
    "    \"Text1\": {\n",
    "        \"Pipeline1\": \"Today is our dragon boat festival in our Chinese culture to celebrate it with all safety and greatness in our lives. Hope you too, enjoy it as my deepest wishes. Thank you for your message to show our words to the doctor, as his next contract checking, to all of us. I got this message to see the approved message. In fact, a couple of days ago I received the message from the professor to show me this. I am very grateful for the full support of the professor for the publication of our Springer proceedings.\",\n",
    "        \"Pipeline2\": \"Our Chinese culture has a dragon boat festival that is celebrated today. Hope you enjoy it as much as I did. Your message was appreciated by the doctor, as his next contract checks, to all of us. I received the message to see the approved one. I received the message from the professor a couple of days ago. I would like to thank the professor for his full support of the Springer proceedings publication.\",\n",
    "        \"Pipeline3\": \"Today, we celebrate the Dragon Boat Festival, a significant event in Chinese culture that honors the importance of safety and well-being in our lives. I sincerely hope you enjoy it as much as I do. Thank you for your message. We will present it to the doctor as part of his review of the upcoming contract for our team. I received this message to review the approved content. I received a message from the professor a couple of days ago regarding this matter. I sincerely appreciate the professor's invaluable support for our publication in the Springer proceedings.\"\n",
    "    },\n",
    "    \"Text2\": {\n",
    "        \"Pipeline1\": \"During our final discussion, I told him about the new submission — the one we had been waiting for since last autumn — but the updates were confusing as it did not include the full feedback from the reviewer or maybe the editor? Anyway, I believe that the team, although a bit delayed and less communicative in recent days, really tried their best for the paper and our cooperation. We should be grateful, I mean all of us, for the acceptance and efforts until the Springer link finally came last week, I think. Please also remind me if the doctor still plans to edit the acknowledgments section before he sends again. Because I didn’t see that part final yet, or maybe I missed it, I apologize if so. Let us make sure that all are safe and celebrate the outcome with strong coffee and future goals.\",\n",
    "        \"Pipeline2\": \"I told him about the new submission we were waiting for since last autumn, but the updates were confusing as it did not include the full feedback from reviewer or editor. I think the team tried their best for paper and cooperation despite the recent delay and less communication. We should be thankful for the acceptance and efforts until the Springer link came last week, I think. If the doctor still plans for the acknowledgments section to be edited before he sends again, please remind me. I apologize if I missed that part final. Let's make sure all are safe and celebrate the outcome with coffee and targets.\",\n",
    "        \"Pipeline3\": \"In our final discussion, I informed him about the new submission that we had been awaiting since last autumn. However, the updates were unclear, as they did not include the complete feedback from either the reviewer or the editor. I believe the team, despite some recent delays and limited communication, has made a commendable effort in their work on the paper and in fostering collaboration. We should all express our gratitude for the acceptance and the efforts made until the Springer link was finally received last week. Could you please remind me if the doctor still plans to edit the acknowledgments section before resending it? Thank you. I apologize if I overlooked that part, as I have not yet seen the final version. Let's ensure everyone's safety while we celebrate our achievements with strong coffee and set our sights on future goals.\"\n",
    "    }\n",
    "}"
   ]
  },
  {
   "cell_type": "markdown",
   "id": "f01fe560",
   "metadata": {},
   "source": [
    "# Φόρτωση BERT tokenizer και μοντέλου"
   ]
  },
  {
   "cell_type": "code",
   "execution_count": 6,
   "id": "934304a8",
   "metadata": {},
   "outputs": [
    {
     "data": {
      "text/plain": [
       "BertModel(\n",
       "  (embeddings): BertEmbeddings(\n",
       "    (word_embeddings): Embedding(30522, 768, padding_idx=0)\n",
       "    (position_embeddings): Embedding(512, 768)\n",
       "    (token_type_embeddings): Embedding(2, 768)\n",
       "    (LayerNorm): LayerNorm((768,), eps=1e-12, elementwise_affine=True)\n",
       "    (dropout): Dropout(p=0.1, inplace=False)\n",
       "  )\n",
       "  (encoder): BertEncoder(\n",
       "    (layer): ModuleList(\n",
       "      (0-11): 12 x BertLayer(\n",
       "        (attention): BertAttention(\n",
       "          (self): BertSdpaSelfAttention(\n",
       "            (query): Linear(in_features=768, out_features=768, bias=True)\n",
       "            (key): Linear(in_features=768, out_features=768, bias=True)\n",
       "            (value): Linear(in_features=768, out_features=768, bias=True)\n",
       "            (dropout): Dropout(p=0.1, inplace=False)\n",
       "          )\n",
       "          (output): BertSelfOutput(\n",
       "            (dense): Linear(in_features=768, out_features=768, bias=True)\n",
       "            (LayerNorm): LayerNorm((768,), eps=1e-12, elementwise_affine=True)\n",
       "            (dropout): Dropout(p=0.1, inplace=False)\n",
       "          )\n",
       "        )\n",
       "        (intermediate): BertIntermediate(\n",
       "          (dense): Linear(in_features=768, out_features=3072, bias=True)\n",
       "          (intermediate_act_fn): GELUActivation()\n",
       "        )\n",
       "        (output): BertOutput(\n",
       "          (dense): Linear(in_features=3072, out_features=768, bias=True)\n",
       "          (LayerNorm): LayerNorm((768,), eps=1e-12, elementwise_affine=True)\n",
       "          (dropout): Dropout(p=0.1, inplace=False)\n",
       "        )\n",
       "      )\n",
       "    )\n",
       "  )\n",
       "  (pooler): BertPooler(\n",
       "    (dense): Linear(in_features=768, out_features=768, bias=True)\n",
       "    (activation): Tanh()\n",
       "  )\n",
       ")"
      ]
     },
     "execution_count": 6,
     "metadata": {},
     "output_type": "execute_result"
    }
   ],
   "source": [
    "tokenizer = BertTokenizer.from_pretrained(\"bert-base-uncased\")\n",
    "model = BertModel.from_pretrained(\"bert-base-uncased\")\n",
    "model.eval()"
   ]
  },
  {
   "cell_type": "markdown",
   "id": "902cae83",
   "metadata": {},
   "source": [
    "#  Συνάρτηση για sentence embedding (average pooling)"
   ]
  },
  {
   "cell_type": "code",
   "execution_count": 7,
   "id": "e9ec7779",
   "metadata": {},
   "outputs": [],
   "source": [
    "\n",
    "def get_sentence_embedding(text: str) -> np.ndarray:\n",
    "    inputs = tokenizer(text, return_tensors=\"pt\", padding=True, truncation=True, max_length=512)\n",
    "    with torch.no_grad():\n",
    "        outputs = model(**inputs)\n",
    "        hidden_states = outputs.last_hidden_state  # shape: (1, seq_len, hidden_dim)\n",
    "        sentence_emb = hidden_states.mean(dim=1).squeeze().numpy()  # shape: (hidden_dim,)\n",
    "    return sentence_emb"
   ]
  },
  {
   "cell_type": "markdown",
   "id": "be6b4c63",
   "metadata": {},
   "source": [
    "# Υπολογισμός embeddings & cosine similarity"
   ]
  },
  {
   "cell_type": "code",
   "execution_count": 8,
   "id": "465e09d0",
   "metadata": {},
   "outputs": [
    {
     "name": "stdout",
     "output_type": "stream",
     "text": [
      "    Text   Pipeline  CosineSimilarity\n",
      "0  Text1  Pipeline1          0.963393\n",
      "1  Text1  Pipeline2          0.956642\n",
      "2  Text1  Pipeline3          0.973577\n",
      "3  Text2  Pipeline1          0.984293\n",
      "4  Text2  Pipeline2          0.970071\n",
      "5  Text2  Pipeline3          0.975597\n"
     ]
    }
   ],
   "source": [
    "\n",
    "results = []\n",
    "embeddings = {}\n",
    "\n",
    "for text_id, groundtruth_text in groundtruth_texts.items():\n",
    "    embeddings[text_id] = {}\n",
    "    emb_gt = get_sentence_embedding(groundtruth_text)\n",
    "    embeddings[text_id][\"GroundTruth\"] = emb_gt\n",
    "    \n",
    "    for pipe_id, rec_text in reconstructed_texts[text_id].items():\n",
    "        emb_rec = get_sentence_embedding(rec_text)\n",
    "        embeddings[text_id][pipe_id] = emb_rec\n",
    "        sim_score = cosine_similarity(emb_gt.reshape(1, -1), emb_rec.reshape(1, -1))[0][0]\n",
    "        results.append({\"Text\": text_id, \"Pipeline\": pipe_id, \"CosineSimilarity\": sim_score})\n",
    "\n",
    "# Δημιουργία DataFrame με cosine similarity\n",
    "cosine_df = pd.DataFrame(results)\n",
    "print(cosine_df)"
   ]
  },
  {
   "cell_type": "markdown",
   "id": "43afa6da",
   "metadata": {},
   "source": [
    "# PCA Visualization (Token-Level) για Text1 vs Pipeline1"
   ]
  },
  {
   "cell_type": "code",
   "execution_count": 9,
   "id": "12f30ef2",
   "metadata": {},
   "outputs": [],
   "source": [
    "\n",
    "# Χρησιμοποιούμε την πρώτη πρόταση του Text1\n",
    "sentence_gt = groundtruth_texts[\"Text1\"].split(\".\")[0] + \".\"\n",
    "sentence_rec = reconstructed_texts[\"Text1\"][\"Pipeline1\"].split(\".\")[0] + \".\"\n",
    "\n",
    "# Απλοϊκή tokenization (αφαίρεση στίξης + split)\n",
    "def tokenize_simple(text: str):\n",
    "    cleaned = text.replace(\",\", \"\").replace(\".\", \"\")\n",
    "    return cleaned.split()\n",
    "\n",
    "tokens_gt = tokenize_simple(sentence_gt)\n",
    "tokens_rec = tokenize_simple(sentence_rec)\n",
    "\n",
    "# Συνάρτηση για token embedding (χρησιμοποιώντας [CLS])\n",
    "def get_token_embedding(token: str) -> np.ndarray:\n",
    "    inputs = tokenizer(token, return_tensors=\"pt\", truncation=True, max_length=10)\n",
    "    with torch.no_grad():\n",
    "        outputs = model(**inputs)\n",
    "        emb = outputs.last_hidden_state[:, 0, :].squeeze().numpy()\n",
    "    return emb\n",
    "\n",
    "# Υπολογισμός embeddings για κάθε token\n",
    "embeds_gt = np.array([get_token_embedding(tok) for tok in tokens_gt])\n",
    "embeds_rec = np.array([get_token_embedding(tok) for tok in tokens_rec])\n",
    "\n",
    "# Συνδυασμός embeddings και δημιουργία labels\n",
    "embeds_combined = np.vstack((embeds_gt, embeds_rec))\n",
    "labels = [\"GroundTruth\"] * len(tokens_gt) + [\"Reconstructed\"] * len(tokens_rec)\n",
    "tokens_combined = tokens_gt + tokens_rec\n",
    "\n",
    "# PCA (2D)\n",
    "pca = PCA(n_components=2)\n",
    "embeds_pca = pca.fit_transform(embeds_combined)"
   ]
  },
  {
   "cell_type": "code",
   "execution_count": 11,
   "id": "8dd3db82",
   "metadata": {},
   "outputs": [
    {
     "data": {
      "image/png": "[encoded data removed]",
      "text/plain": [
       "<Figure size 1000x600 with 1 Axes>"
      ]
     },
     "metadata": {},
     "output_type": "display_data"
    }
   ],
   "source": [
    "plt.figure(figsize=(10, 6))\n",
    "\n",
    "# Χρώματα και labels\n",
    "for i, (x, y) in enumerate(embeds_pca):\n",
    "    label = labels[i]\n",
    "    token = tokens_combined[i]\n",
    "    if label == \"GroundTruth\":\n",
    "        if label == \"GroundTruth\" and \"Ground Truth\" not in plt.gca().get_legend_handles_labels()[1]:\n",
    "            plt.scatter(x, y, color=\"blue\", alpha=0.7, label=\"Ground Truth\")\n",
    "        else:\n",
    "            plt.scatter(x, y, color=\"blue\", alpha=0.7)\n",
    "        plt.text(x + 0.02, y + 0.02, token, fontsize=9, color=\"blue\")\n",
    "    else:\n",
    "        plt.scatter(x, y, color=\"red\", alpha=0.2, label=\"Reconstructed\" if i == len(tokens_gt) else \"\")\n",
    "        plt.text(x + 0.02, y + 0.02, token, fontsize=9, color=\"red\")\n",
    "\n",
    "\n",
    "for i, tok in enumerate(tokens_combined):\n",
    "    plt.text(embeds_pca[i, 0] + 0.02, embeds_pca[i, 1] + 0.02, tok, fontsize=9)\n",
    "\n",
    "plt.title(\"PCA Token Embeddings: Text1 Ground Truth vs Pipeline1\")\n",
    "plt.xlabel(\"PCA Component 1\")\n",
    "plt.ylabel(\"PCA Component 2\")\n",
    "handles, labels_unique = plt.gca().get_legend_handles_labels()\n",
    "by_label = dict(zip(labels_unique, handles))\n",
    "plt.legend(by_label.values(), by_label.keys())\n",
    "\n",
    "plt.tight_layout()\n",
    "plt.show()"
   ]
  }
 ],
 "metadata": {
  "kernelspec": {
   "display_name": "Python 3",
   "language": "python",
   "name": "python3"
  },
  "language_info": {
   "codemirror_mode": {
    "name": "ipython",
    "version": 3
   },
   "file_extension": ".py",
   "mimetype": "text/x-python",
   "name": "python",
   "nbconvert_exporter": "python",
   "pygments_lexer": "ipython3",
   "version": "3.10.7"
  }
 },
 "nbformat": 4,
 "nbformat_minor": 5
}
